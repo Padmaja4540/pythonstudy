{
 "cells": [
  {
   "cell_type": "code",
   "execution_count": 20,
   "id": "ce404780",
   "metadata": {},
   "outputs": [
    {
     "name": "stdout",
     "output_type": "stream",
     "text": [
      "[1, 2, 3, 4, 5, 6, 7, 8, 'Padmaja']\n",
      "[1, 2, 3, 4, 5, 6, 7, 8, 'Padmaja']\n",
      "[1, 2, 3, 4, 5, 6, 7, 8, 'Padmaja', 0.1, 0.2, 0.3, 0.4, 0.5]\n",
      "[1, 'Pooja', 2, 3, 4, 5, 6, 7, 8, 'Padmaja', 0.1, 0.2, 0.3, 0.4, 0.5]\n",
      "[1, 2, 3, 4, 5, 7, 8, 'Padmaja', 0.1, 0.2, 0.3, 0.4, 0.5]\n",
      "[0.5, 0.4, 0.3, 0.2, 0.1, 'Padmaja', 8, 7, 5, 4, 3, 2, 1]\n"
     ]
    }
   ],
   "source": [
    "# List\n",
    "\n",
    "list1 = [1,2,3,4,5,6,7,8]\n",
    "list2 = [0.1,0.2,0.3,0.4,0.5]\n",
    "\n",
    "list1.append(\"Padmaja\")\n",
    "print(list1)\n",
    "list1.copy()\n",
    "print(list1)\n",
    "list1.count(4)\n",
    "\n",
    "list1.extend(list2)\n",
    "print(list1)\n",
    "\n",
    "list1.index(0.4)\n",
    "\n",
    "list1.insert(1,\"Pooja\")\n",
    "print(list1)\n",
    "\n",
    "list1.pop(1)\n",
    "\n",
    "list1.remove(6)\n",
    "print(list1)\n",
    "\n",
    "list1.reverse()\n",
    "print(list1)\n",
    "\n"
   ]
  },
  {
   "cell_type": "code",
   "execution_count": 24,
   "id": "d9eeefd8",
   "metadata": {},
   "outputs": [
    {
     "name": "stdout",
     "output_type": "stream",
     "text": [
      "[30, 21, 22, 25, 45, 54, 85, 98]\n",
      "Ascending\n",
      "[21, 22, 25, 30, 45, 54, 85, 98]\n",
      "Descending\n",
      "[98, 85, 54, 45, 30, 25, 22, 21]\n"
     ]
    }
   ],
   "source": [
    "abc = [30,21,22,25,45,54,85,98]\n",
    "\n",
    "print(abc)\n",
    "print(\"Ascending\")\n",
    "\n",
    "abc.sort(reverse=False)\n",
    "print(abc)\n",
    "print(\"Descending\")\n",
    "abc.sort(reverse=True)\n",
    "print(abc)"
   ]
  },
  {
   "cell_type": "code",
   "execution_count": 40,
   "id": "54208a44",
   "metadata": {},
   "outputs": [
    {
     "name": "stdout",
     "output_type": "stream",
     "text": [
      "[21]\n",
      "[21, 'Pooja', 'Padmaja']\n",
      "[21]\n",
      "[4, 5, 6, 7, 8, 9]\n",
      "[9, 8, 7, 6, 5, 4]\n"
     ]
    }
   ],
   "source": [
    "print(abc)\n",
    "abc[1:3]=[\"Pooja\",\"Padmaja\"]\n",
    "print(abc)\n",
    "abc.remove(\"Pooja\")\n",
    "abc.remove(\"Padmaja\")\n",
    "print(abc)\n",
    "efg = [4,5,6,7,8,9]\n",
    "efg.sort(reverse=False)\n",
    "print(efg)\n",
    "efg.sort(reverse=True)\n",
    "print(efg)"
   ]
  },
  {
   "cell_type": "markdown",
   "id": "3d5fa664",
   "metadata": {},
   "source": [
    "# Set"
   ]
  },
  {
   "cell_type": "code",
   "execution_count": 63,
   "id": "c3c7d728",
   "metadata": {},
   "outputs": [
    {
     "name": "stdout",
     "output_type": "stream",
     "text": [
      "{1, 2, 3, 4, 5, 6, 7, 8, 10}\n",
      "{1, 2, 3, 4, 5, 6, 7, 8, 10, 10.12}\n",
      "{1, 2, 3, 7, 8, 10, 10.12}\n",
      "{1.11, 2.22, 3.33, 7.77, 8.88}\n",
      "None\n",
      "None\n",
      "{2, 3, 7, 8, 10, 10.12}\n",
      "{2, 3, 7, 8, 10, 10.12}\n",
      "set()\n"
     ]
    }
   ],
   "source": [
    "set1 = {1,2,3,4,5,6,7,8,10}\n",
    "set2 = {1.11,2.22,3.33,4,5,6,7.77,8.88}\n",
    "set3 = {1,2,3,4,5,6,7,8,10,1.11,2.22,3.33,7.77,8.88}\n",
    "\n",
    "print(set1)\n",
    "set1.add(10.12)\n",
    "print(set1)\n",
    "set1.copy()\n",
    "b = set1.difference(set2)\n",
    "print(b)\n",
    "c = set2.difference(set1)\n",
    "print(c)\n",
    "d = set1.difference_update(set2)\n",
    "print(d)\n",
    "e = set2.difference_update(set1)\n",
    "print(e)\n",
    "set1.discard(1)\n",
    "print(set1)\n",
    "set1.intersection(set2)\n",
    "print(set1)\n",
    "g = set2.intersection(set1)\n",
    "print(g)\n"
   ]
  },
  {
   "cell_type": "code",
   "execution_count": 86,
   "id": "99b7bd3f",
   "metadata": {},
   "outputs": [
    {
     "name": "stdout",
     "output_type": "stream",
     "text": [
      "{1, 2, 3, 4, 5, 6, 7, 8, 10}\n",
      "{1.11, 2.22, 3.33, 4, 5, 6, 7.77, 8.88}\n",
      "{4, 5, 6}\n",
      "{4, 5, 6}\n",
      "False\n",
      "True\n",
      "False\n",
      "True\n",
      "4\n",
      "{1.11, 2.22, 3.33, 4, 7.77, 8.88}\n",
      "{1.11, 2.22, 3.33, 4, 7.77, 8.88}\n",
      "{1.11, 2.22, 3.33, 4, 7.77, 8.88}\n",
      "{1.11, 2.22, 3.33, 4, 5, 6, 7.77, 8.88}\n",
      "{1.11, 2.22, 3.33, 4, 5, 6, 7.77, 8.88}\n",
      "None\n",
      "{1.11, 2.22, 3.33, 4, 1, 2, 7.77, 8.88, 3, 5, 6, 7, 8, 10}\n"
     ]
    }
   ],
   "source": [
    "m = {1,2,3,4,5,6,7,8,10}\n",
    "n = {1.11,2.22,3.33,4,5,6,7.77,8.88}\n",
    "p = {1,2,3,4,5,6,7,8,10,1.11,2.22,3.33,7.77,8.88}\n",
    "\n",
    "a = m.intersection(n)\n",
    "print(m)\n",
    "print(n)\n",
    "print(a)\n",
    "m.intersection_update(n)\n",
    "print(m)\n",
    "b = n.isdisjoint(m)\n",
    "print(b)\n",
    "c = n.issubset(p)\n",
    "print(c)\n",
    "d = m.issuperset(p)\n",
    "print(d)\n",
    "e = p.issuperset(m)\n",
    "print(e)\n",
    "f = m.pop()\n",
    "print(f)\n",
    "g = m.symmetric_difference(n)\n",
    "print(g)\n",
    "h = n.symmetric_difference(m)\n",
    "print(h)\n",
    "m.symmetric_difference_update(n)\n",
    "print(m)\n",
    "print(n)\n",
    "r = m.union(n)\n",
    "print(r)\n",
    "s = m.update(p)\n",
    "print(s)\n",
    "m.update(n)\n",
    "print(m)\n",
    "\n"
   ]
  },
  {
   "cell_type": "markdown",
   "id": "2dfd4fb9",
   "metadata": {},
   "source": [
    "\n",
    "# Dictionary"
   ]
  },
  {
   "cell_type": "code",
   "execution_count": 88,
   "id": "670c4d1f",
   "metadata": {},
   "outputs": [
    {
     "name": "stdout",
     "output_type": "stream",
     "text": [
      "{1: 'A', 2: 'B', 3: 'C', 4: 'D'}\n",
      "<class 'dict'>\n"
     ]
    }
   ],
   "source": [
    "dict1 = {1:'A',\n",
    "         2:'B',\n",
    "         3:'C',\n",
    "         4:'D'}\n",
    "print(dict1)\n",
    "print(type(dict1))"
   ]
  },
  {
   "cell_type": "code",
   "execution_count": 119,
   "id": "77def283",
   "metadata": {},
   "outputs": [
    {
     "name": "stdout",
     "output_type": "stream",
     "text": [
      "{'Name': 'Padmaja', 'Job title': 'Data Scientist', 'Salary': 800000, 'Mobile': 7040628815, 'Address': 'Karad'}\n",
      "Padmaja\n",
      "{'Name': 'Padmaja', 'Job title': 'Data Scientist', 'Salary': 800000, 'Mobile': 7040628815, 'Address': 'Karad'}\n",
      "{'M': 7040628815, 'o': 7040628815, 'b': 7040628815, 'i': 7040628815, 'l': 7040628815, 'e': 7040628815}\n",
      "7040628815\n",
      "dict_items([('Name', 'Padmaja'), ('Job title', 'Data Scientist'), ('Salary', 800000), ('Mobile', 7040628815), ('Address', 'Karad')])\n",
      "dict_keys(['Name', 'Job title', 'Salary', 'Mobile', 'Address'])\n",
      "7040628815\n",
      "('Address', 'Karad')\n",
      "{'Name': 'Padmaja', 'Job title': 'Data Scientist', 'Salary': 800000}\n",
      "Data Scientist\n",
      "None\n",
      "dict_values(['Padmaja', 'Data Scientist', 800000])\n",
      "None\n",
      "{}\n"
     ]
    }
   ],
   "source": [
    "Stud = {\n",
    "        'Name' : 'Padmaja',\n",
    "        'Job title' : 'Data Scientist',\n",
    "        'Salary' : 800000,\n",
    "        'Mobile' : 7040628815,\n",
    "        'Address' : 'Karad'\n",
    "}\n",
    "\n",
    "print(Stud)\n",
    "\n",
    "print(Stud['Name'])\n",
    "a = Stud.copy()\n",
    "print(a)\n",
    "b = Stud.fromkeys('Mobile',7040628815)\n",
    "print(b)\n",
    "c = Stud.get('Mobile')\n",
    "print(c)\n",
    "d = Stud.items()\n",
    "print(d)\n",
    "e = Stud.keys()\n",
    "print(e)\n",
    "f = Stud.pop('Mobile')\n",
    "print(f)\n",
    "g = Stud.popitem()\n",
    "print(g)\n",
    "print(Stud)\n",
    "h = Stud.setdefault('Job title')\n",
    "print(h)\n",
    "i = Stud.update(Stud)\n",
    "print(i)\n",
    "j = Stud.values()\n",
    "print(j)\n",
    "k = Stud.clear()\n",
    "print(k)\n",
    "print(Stud)\n"
   ]
  },
  {
   "cell_type": "markdown",
   "id": "954e56a8",
   "metadata": {},
   "source": [
    "# Nested Dictionary"
   ]
  },
  {
   "cell_type": "code",
   "execution_count": 121,
   "id": "5a3335fd",
   "metadata": {},
   "outputs": [
    {
     "name": "stdout",
     "output_type": "stream",
     "text": [
      "{'f_key': {'p_key': {'s_key': {'gname': 'Grand_Son_Name'}, 's_name': 'Son_name'}, 'p_name': 'Parent_name'}}\n"
     ]
    }
   ],
   "source": [
    "grandson = {\n",
    "    'gname':'Grand_Son_Name'\n",
    "}\n",
    "son = {\n",
    "    's_key' : grandson,\n",
    "    's_name' : 'Son_name',\n",
    "}\n",
    "parent = {\n",
    "    'p_key' : son,\n",
    "    'p_name' : 'Parent_name'\n",
    "}\n",
    "family = {\n",
    "    'f_key' : parent,\n",
    "}\n",
    "print(family)"
   ]
  },
  {
   "cell_type": "code",
   "execution_count": 122,
   "id": "281fe5f3",
   "metadata": {},
   "outputs": [
    {
     "data": {
      "text/plain": [
       "{'f_key': {'p_key': {'s_key': {'gname': 'Grand_Son_Name'},\n",
       "   's_name': 'Son_name'},\n",
       "  'p_name': 'Parent_name'}}"
      ]
     },
     "execution_count": 122,
     "metadata": {},
     "output_type": "execute_result"
    }
   ],
   "source": [
    "family"
   ]
  },
  {
   "cell_type": "code",
   "execution_count": 123,
   "id": "870c4593",
   "metadata": {},
   "outputs": [
    {
     "data": {
      "text/plain": [
       "{'p_key': {'s_key': {'gname': 'Grand_Son_Name'}, 's_name': 'Son_name'},\n",
       " 'p_name': 'Parent_name'}"
      ]
     },
     "execution_count": 123,
     "metadata": {},
     "output_type": "execute_result"
    }
   ],
   "source": [
    "family['f_key']"
   ]
  },
  {
   "cell_type": "markdown",
   "id": "d2aa7980",
   "metadata": {},
   "source": [
    "# Operators"
   ]
  },
  {
   "cell_type": "code",
   "execution_count": 143,
   "id": "119186be",
   "metadata": {},
   "outputs": [
    {
     "name": "stdout",
     "output_type": "stream",
     "text": [
      "Arithmatical Operators\n",
      "\n",
      "*Additions*\n",
      "sum: \t 30\n",
      "*Substractions*\n",
      "substraction: \t 30\n",
      "*Multiplications*\n",
      "Multiplication: \t 10\n",
      "*Division*\n",
      "Division: \t 5.0\n",
      "*Modulo*\n",
      "Modulo: \t 10\n",
      "*Floor Division*\n",
      "Floor Division:\t 5\n"
     ]
    }
   ],
   "source": [
    "# Arithmatical Operators\n",
    "print('Arithmatical Operators\\n')\n",
    "print(\"*Additions*\")\n",
    "a = 10\n",
    "b = 20\n",
    "res = a+b\n",
    "print('sum: \\t',res)\n",
    "\n",
    "\n",
    "print(\"*Substractions*\")\n",
    "a = 50\n",
    "b = 20\n",
    "res = a-b\n",
    "print('substraction: \\t',res)\n",
    "\n",
    "print(\"*Multiplications*\")\n",
    "c = 5\n",
    "d = 2\n",
    "res = c*d\n",
    "print('Multiplication: \\t',res)\n",
    "\n",
    "print('*Division*')\n",
    "e = 100\n",
    "f = 20\n",
    "res = e/f\n",
    "print('Division: \\t',res)\n",
    "\n",
    "print('*Modulo*')\n",
    "g = 50\n",
    "h = 10\n",
    "res = h%g\n",
    "print('Modulo: \\t',res)\n",
    "\n",
    "print('*Floor Division*')\n",
    "m = 100\n",
    "n = 20\n",
    "res = m//n\n",
    "print('Floor Division:\\t',res)"
   ]
  },
  {
   "cell_type": "code",
   "execution_count": 159,
   "id": "ca4dfd9f",
   "metadata": {},
   "outputs": [
    {
     "name": "stdout",
     "output_type": "stream",
     "text": [
      "Assignment Operators\n",
      "\n",
      "22\n",
      "33\n",
      "11\n",
      "44\n",
      "22.0\n",
      "22.0\n",
      "2.0\n",
      "25\n"
     ]
    }
   ],
   "source": [
    "# Assignment Operators\n",
    "\n",
    "print('Assignment Operators\\n')\n",
    "\n",
    "var = 22\n",
    "print(var)\n",
    "var += 11\n",
    "print(var)\n",
    "\n",
    "var -= 22\n",
    "print(var)\n",
    "\n",
    "var *=4\n",
    "print(var)\n",
    "\n",
    "var /= 2\n",
    "print(var)\n",
    "\n",
    "var %= 100\n",
    "print(var)\n",
    "\n",
    "var //=10\n",
    "print(var)\n",
    "\n",
    "var = 5\n",
    "\n",
    "var **=2\n",
    "print(var)"
   ]
  },
  {
   "cell_type": "code",
   "execution_count": 161,
   "id": "58f45422",
   "metadata": {},
   "outputs": [
    {
     "name": "stdout",
     "output_type": "stream",
     "text": [
      "value of x is:\t 55\n",
      "prior x is: 55\n",
      "post x is: 65\n",
      "1\n"
     ]
    }
   ],
   "source": [
    "x = 55\n",
    "print('value of x is:\\t',x)\n",
    "print('prior x is:',x)\n",
    "x +=10\n",
    "print('post x is:',x)\n",
    "y = 2 and 1\n",
    "print(y)"
   ]
  },
  {
   "cell_type": "code",
   "execution_count": 162,
   "id": "5bc334b8",
   "metadata": {},
   "outputs": [
    {
     "name": "stdout",
     "output_type": "stream",
     "text": [
      "*Comparison Operators*\n",
      "False\n",
      "True\n",
      "True\n",
      "False\n",
      "False\n",
      "True\n"
     ]
    }
   ],
   "source": [
    "# Comparison Operators\n",
    "\n",
    "print('*Comparison Operators*')\n",
    "a = 22\n",
    "b = 11\n",
    "\n",
    "print(a==b)\n",
    "print(a!=b)\n",
    "print(a>b)\n",
    "print(a<b)\n",
    "print(a<=b)\n",
    "print(a>=b)\n",
    "\n",
    "\n",
    "\n",
    "\n",
    "\n",
    "\n",
    "\n"
   ]
  },
  {
   "cell_type": "code",
   "execution_count": 167,
   "id": "db0ef303",
   "metadata": {},
   "outputs": [
    {
     "name": "stdout",
     "output_type": "stream",
     "text": [
      "Identity Operators\n",
      "\n",
      "Id of x is: 1984539880400\n",
      "Id of y is : 1984539880400\n",
      "True\n"
     ]
    }
   ],
   "source": [
    "# Identity Operators\n",
    "\n",
    "print('Identity Operators\\n')\n",
    "x = 22\n",
    "y = 22\n",
    "print(\"Id of x is:\",id(x))\n",
    "print(\"Id of y is :\",id(y))\n",
    "print(x is y)\n",
    "\n"
   ]
  },
  {
   "cell_type": "markdown",
   "id": "96f22460",
   "metadata": {},
   "source": [
    "# Membership Operators\n"
   ]
  },
  {
   "cell_type": "code",
   "execution_count": 173,
   "id": "282491ff",
   "metadata": {},
   "outputs": [
    {
     "name": "stdout",
     "output_type": "stream",
     "text": [
      "Membership Operators\n",
      "\n",
      "(11, 22, 33, 44)\n",
      "True\n",
      "True\n",
      "False\n"
     ]
    }
   ],
   "source": [
    "print(\"Membership Operators\\n\")\n",
    "\n",
    "Rolls = (11,22,33,44)\n",
    "print(Rolls)\n",
    "print(33 in Rolls)\n",
    "print(55 not in Rolls)\n",
    "print(10 in Rolls)"
   ]
  },
  {
   "cell_type": "markdown",
   "id": "990f708a",
   "metadata": {},
   "source": [
    "# Conditional Statements and Loops"
   ]
  },
  {
   "cell_type": "code",
   "execution_count": 180,
   "id": "2c21d67b",
   "metadata": {},
   "outputs": [
    {
     "name": "stdout",
     "output_type": "stream",
     "text": [
      "Conditional Statements and Loops\n",
      "\n",
      "True\n",
      "y is larger than x\n"
     ]
    }
   ],
   "source": [
    "print('Conditional Statements and Loops\\n')\n",
    "\n",
    "x = 10\n",
    "y = 20\n",
    "print(x<y)\n",
    "if x > y:\n",
    "    print(\"x is larger than y\")\n",
    "else:\n",
    "    print(\"y is larger than x\")"
   ]
  },
  {
   "cell_type": "code",
   "execution_count": 182,
   "id": "f4a17907",
   "metadata": {},
   "outputs": [
    {
     "name": "stdout",
     "output_type": "stream",
     "text": [
      "Number is less than 150\n"
     ]
    }
   ],
   "source": [
    " # Nested Conditional Statements\n",
    "    \n",
    "x = 100\n",
    "if x > 150:\n",
    "    if x > 200:\n",
    "        print(\"x is greater than 150 and 200\")\n",
    "    elif x ==300:\n",
    "        print(\"Number is equal to 300\")\n",
    "    else:\n",
    "        print(\"Number is greater than 150 and lesser than 200\")\n",
    "elif x == 150:\n",
    "    print(\"Number is equal to 150\")\n",
    "else:\n",
    "    print(\"Number is less than 150\")\n",
    "        \n",
    "        \n",
    "        "
   ]
  },
  {
   "cell_type": "code",
   "execution_count": 185,
   "id": "e89fb798",
   "metadata": {},
   "outputs": [],
   "source": [
    "# Pass Statement\n",
    "\n",
    "x = 22\n",
    "y = 33\n",
    "if x>y:\n",
    "    pass"
   ]
  },
  {
   "cell_type": "markdown",
   "id": "ca63fc69",
   "metadata": {},
   "source": [
    "# Loops"
   ]
  },
  {
   "cell_type": "code",
   "execution_count": 188,
   "id": "9b29cb27",
   "metadata": {},
   "outputs": [
    {
     "name": "stdout",
     "output_type": "stream",
     "text": [
      "Loops\n",
      "\n",
      "1\n",
      "2\n",
      "3\n",
      "4\n",
      "5\n",
      "6\n",
      "7\n",
      "8\n",
      "9\n",
      "10\n"
     ]
    }
   ],
   "source": [
    "print('Loops\\n')\n",
    "\n",
    "x = 1\n",
    "while x <=10:\n",
    "    print(x)\n",
    "    x = x+1"
   ]
  },
  {
   "cell_type": "code",
   "execution_count": 190,
   "id": "480c09cb",
   "metadata": {},
   "outputs": [
    {
     "name": "stdout",
     "output_type": "stream",
     "text": [
      "0\n",
      "1\n",
      "2\n",
      "3\n",
      "4\n",
      "5\n",
      "6\n",
      "7\n",
      "8\n",
      "9\n",
      "10\n"
     ]
    }
   ],
   "source": [
    "# Break Statements\n",
    "\n",
    "x = 0\n",
    "while x < 20:\n",
    "    print(x)\n",
    "    if x == 10:\n",
    "        break\n",
    "    x +=1"
   ]
  },
  {
   "cell_type": "code",
   "execution_count": null,
   "id": "695aff29",
   "metadata": {},
   "outputs": [],
   "source": []
  },
  {
   "cell_type": "code",
   "execution_count": null,
   "id": "9b759e22",
   "metadata": {},
   "outputs": [],
   "source": []
  }
 ],
 "metadata": {
  "kernelspec": {
   "display_name": "Python 3 (ipykernel)",
   "language": "python",
   "name": "python3"
  },
  "language_info": {
   "codemirror_mode": {
    "name": "ipython",
    "version": 3
   },
   "file_extension": ".py",
   "mimetype": "text/x-python",
   "name": "python",
   "nbconvert_exporter": "python",
   "pygments_lexer": "ipython3",
   "version": "3.9.7"
  }
 },
 "nbformat": 4,
 "nbformat_minor": 5
}
