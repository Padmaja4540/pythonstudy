{
 "cells": [
  {
   "cell_type": "markdown",
   "id": "f13faff3",
   "metadata": {},
   "source": [
    "# Lambda Function"
   ]
  },
  {
   "cell_type": "raw",
   "id": "c05d92e1",
   "metadata": {},
   "source": [
    "Lambda Function"
   ]
  },
  {
   "cell_type": "code",
   "execution_count": 1,
   "id": "3b26e870",
   "metadata": {},
   "outputs": [
    {
     "name": "stdout",
     "output_type": "stream",
     "text": [
      "Square of 4 is :\n",
      "16\n",
      "square of 10 is :\n"
     ]
    },
    {
     "data": {
      "text/plain": [
       "100"
      ]
     },
     "execution_count": 1,
     "metadata": {},
     "output_type": "execute_result"
    }
   ],
   "source": [
    "square = lambda a: a**2\n",
    "\n",
    "print(\"Square of 4 is :\")\n",
    "\n",
    "square(4)\n",
    "\n",
    "print(square(4))\n",
    "\n",
    "print(\"square of 10 is :\")\n",
    "square(10)"
   ]
  },
  {
   "cell_type": "code",
   "execution_count": 1,
   "id": "31c084bb",
   "metadata": {},
   "outputs": [],
   "source": [
    "# Any number of arguments"
   ]
  },
  {
   "cell_type": "code",
   "execution_count": 2,
   "id": "43875d37",
   "metadata": {},
   "outputs": [
    {
     "name": "stdout",
     "output_type": "stream",
     "text": [
      "Add five numbers:1,2,3,4 and 5\n",
      "Sum is:\n"
     ]
    },
    {
     "data": {
      "text/plain": [
       "15"
      ]
     },
     "execution_count": 2,
     "metadata": {},
     "output_type": "execute_result"
    }
   ],
   "source": [
    "add = lambda a,b,c,d,e : a+b+c+d+e\n",
    "\n",
    "print(\"Add five numbers:1,2,3,4 and 5\\nSum is:\")\n",
    "add(1,2,3,4,5)\n"
   ]
  },
  {
   "cell_type": "code",
   "execution_count": 3,
   "id": "dc7b3682",
   "metadata": {},
   "outputs": [],
   "source": [
    "# Python Class"
   ]
  },
  {
   "cell_type": "code",
   "execution_count": 11,
   "id": "b9350b7c",
   "metadata": {},
   "outputs": [],
   "source": [
    "#1.Create class\n",
    "\n",
    "class Stud:\n",
    "    Name = \"Padmaja\"\n",
    "    "
   ]
  },
  {
   "cell_type": "code",
   "execution_count": 10,
   "id": "e0e31d44",
   "metadata": {},
   "outputs": [
    {
     "name": "stdout",
     "output_type": "stream",
     "text": [
      "Padmaja\n"
     ]
    }
   ],
   "source": [
    "#2.Create object of class\n",
    "\n",
    "s1 = Stud()\n",
    "\n",
    "print(s1.Name)\n"
   ]
  },
  {
   "cell_type": "code",
   "execution_count": 13,
   "id": "aab3bd79",
   "metadata": {},
   "outputs": [
    {
     "name": "stdout",
     "output_type": "stream",
     "text": [
      "Padmaja   BCom   495\n",
      "Priyanka   CS   491\n",
      "Dhanashri   CA   515\n"
     ]
    }
   ],
   "source": [
    "class Student:\n",
    "    def __init__ (self,name,clas,rollno):\n",
    "        self.name = name\n",
    "        self.clas = clas\n",
    "        self.rollno = rollno\n",
    "        \n",
    "p = Student(\"Padmaja\",\"BCom\",495)\n",
    "r = Student(\"Priyanka\",\"CS\",491)\n",
    "d = Student(\"Dhanashri\",\"CA\",515)\n",
    "\n",
    "print(p.name,\" \",p.clas,\" \",p.rollno)\n",
    "print(r.name,\" \",r.clas,\" \",r.rollno)\n",
    "print(d.name,\" \",d.clas,\" \",d.rollno)\n",
    "\n"
   ]
  },
  {
   "cell_type": "code",
   "execution_count": null,
   "id": "0208aaba",
   "metadata": {},
   "outputs": [],
   "source": [
    "class Student:\n",
    "    def __init__ (self,name,clas,rollno):\n",
    "        self.name = name\n",
    "        self.clas = clas\n",
    "        self.rollno = rollno\n",
    "        \n",
    "p = Student(\"Padmaja\",\"BCom\",495)\n",
    "r = Student(\"Priyanka\",\"CS\",491)\n",
    "d = Student(\"Dhanashri\",\"CA\",515)\n",
    "\n",
    "print(p.name,\" \",p.clas,\" \",p.rollno)\n",
    "print(r.name,\" \",r.clas,\" \",r.rollno)\n",
    "print(d.name,\" \",d.clas,\" \",d.rollno)\n",
    "\n"
   ]
  }
 ],
 "metadata": {
  "kernelspec": {
   "display_name": "Python 3 (ipykernel)",
   "language": "python",
   "name": "python3"
  },
  "language_info": {
   "codemirror_mode": {
    "name": "ipython",
    "version": 3
   },
   "file_extension": ".py",
   "mimetype": "text/x-python",
   "name": "python",
   "nbconvert_exporter": "python",
   "pygments_lexer": "ipython3",
   "version": "3.9.7"
  }
 },
 "nbformat": 4,
 "nbformat_minor": 5
}
