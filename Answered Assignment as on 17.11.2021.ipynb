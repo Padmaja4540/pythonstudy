{
 "cells": [
  {
   "cell_type": "markdown",
   "id": "6a65994a",
   "metadata": {},
   "source": [
    "# Answered Assignment"
   ]
  },
  {
   "cell_type": "code",
   "execution_count": 5,
   "id": "ebe8af1c",
   "metadata": {},
   "outputs": [
    {
     "name": "stdout",
     "output_type": "stream",
     "text": [
      "*\n",
      "**\n",
      "***\n",
      "****\n",
      "*****\n",
      "******\n",
      "*******\n"
     ]
    }
   ],
   "source": [
    "# 1.\n",
    "list1 = ['*','**','***','****','*****','******','*******']\n",
    "\n",
    "x = 0\n",
    "while x < len(list1):\n",
    "    print(list1[x])\n",
    "    x += 1"
   ]
  },
  {
   "cell_type": "code",
   "execution_count": 6,
   "id": "584ca777",
   "metadata": {},
   "outputs": [
    {
     "name": "stdout",
     "output_type": "stream",
     "text": [
      "     *\n",
      "    * *\n",
      "   * * *\n",
      "  * * * *\n",
      " * * * * *\n",
      "* * * * * *\n"
     ]
    }
   ],
   "source": [
    "# 2.\n",
    "print('     *')\n",
    "print('    * *')\n",
    "print('   * * *')\n",
    "print('  * * * *')\n",
    "print(' * * * * *')\n",
    "print('* * * * * *')"
   ]
  },
  {
   "cell_type": "code",
   "execution_count": 11,
   "id": "65349708",
   "metadata": {},
   "outputs": [
    {
     "name": "stdout",
     "output_type": "stream",
     "text": [
      "Square root of 4 is: 5.0\n"
     ]
    }
   ],
   "source": [
    "# 3.\n",
    "num = 25\n",
    "sqrt = num ** 0.5\n",
    "print('Square root of 4 is:',sqrt)"
   ]
  },
  {
   "cell_type": "code",
   "execution_count": 12,
   "id": "47137ff8",
   "metadata": {},
   "outputs": [
    {
     "name": "stdout",
     "output_type": "stream",
     "text": [
      "Square root of 4+6j is: (2.367604543724308+1.267103498323633j)\n"
     ]
    }
   ],
   "source": [
    "# 4.\n",
    "num = 4+6j\n",
    "sqrt = num ** 0.5\n",
    "print('Square root of 4+6j is:',sqrt)"
   ]
  },
  {
   "cell_type": "code",
   "execution_count": 17,
   "id": "57c3e6a4",
   "metadata": {},
   "outputs": [
    {
     "name": "stdout",
     "output_type": "stream",
     "text": [
      "1\n",
      "2,3\n",
      "4,5,6\n",
      "7,8,9,10\n",
      "11,12,13,14,15\n"
     ]
    }
   ],
   "source": [
    "# 5\n",
    "list2 = ['1','2,3','4,5,6','7,8,9,10','11,12,13,14,15']\n",
    "\n",
    "x = 0\n",
    "while x < len(list2):\n",
    "    print(list2[x])\n",
    "    x += 1"
   ]
  },
  {
   "cell_type": "code",
   "execution_count": null,
   "id": "319c0be6",
   "metadata": {},
   "outputs": [],
   "source": []
  }
 ],
 "metadata": {
  "kernelspec": {
   "display_name": "Python 3 (ipykernel)",
   "language": "python",
   "name": "python3"
  },
  "language_info": {
   "codemirror_mode": {
    "name": "ipython",
    "version": 3
   },
   "file_extension": ".py",
   "mimetype": "text/x-python",
   "name": "python",
   "nbconvert_exporter": "python",
   "pygments_lexer": "ipython3",
   "version": "3.9.7"
  }
 },
 "nbformat": 4,
 "nbformat_minor": 5
}
