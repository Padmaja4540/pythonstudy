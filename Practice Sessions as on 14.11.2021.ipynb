{
 "cells": [
  {
   "cell_type": "markdown",
   "id": "86ed0a6b",
   "metadata": {},
   "source": [
    "# While Loop"
   ]
  },
  {
   "cell_type": "code",
   "execution_count": 8,
   "id": "f0271c8d",
   "metadata": {},
   "outputs": [
    {
     "name": "stdout",
     "output_type": "stream",
     "text": [
      "*While Loop*\n",
      "\n",
      "0\n",
      "2\n",
      "4\n",
      "6\n",
      "8\n"
     ]
    }
   ],
   "source": [
    "print(\"*While Loop*\\n\")\n",
    "\n",
    "# print series of numbers\n",
    "\n",
    "x = 0\n",
    "while x <=8:\n",
    "    print(x)\n",
    "    x = x + 2"
   ]
  },
  {
   "cell_type": "code",
   "execution_count": 9,
   "id": "6e19607d",
   "metadata": {},
   "outputs": [
    {
     "name": "stdout",
     "output_type": "stream",
     "text": [
      "0\n",
      "1\n",
      "2\n",
      "3\n",
      "4\n",
      "5\n",
      "6\n",
      "7\n",
      "8\n",
      "9\n"
     ]
    }
   ],
   "source": [
    "# break statement\n",
    "\n",
    "x = 0\n",
    "while x < 12:\n",
    "    print(x)\n",
    "    if x==9:\n",
    "        break\n",
    "    x += 1"
   ]
  },
  {
   "cell_type": "code",
   "execution_count": 10,
   "id": "a78de02d",
   "metadata": {},
   "outputs": [
    {
     "name": "stdout",
     "output_type": "stream",
     "text": [
      "0\n",
      "1\n",
      "2\n",
      "3\n",
      "4\n",
      "5\n",
      "6\n",
      "7\n",
      "8\n",
      "9\n",
      "11\n",
      "12\n",
      "13\n",
      "14\n",
      "15\n",
      "16\n",
      "17\n",
      "18\n",
      "20\n"
     ]
    }
   ],
   "source": [
    "# Continue Statement\n",
    "\n",
    "x = 0\n",
    "while x <= 20:\n",
    "    if x == 10 or x == 19:\n",
    "        x += 1\n",
    "        continue\n",
    "    print(x)\n",
    "    x += 1"
   ]
  },
  {
   "cell_type": "code",
   "execution_count": 14,
   "id": "581af5dd",
   "metadata": {},
   "outputs": [
    {
     "name": "stdout",
     "output_type": "stream",
     "text": [
      "0\n",
      "2\n",
      "4\n",
      "6\n",
      "8\n",
      "11\n",
      "13\n",
      "15\n",
      "17\n",
      "19\n",
      "End\n"
     ]
    }
   ],
   "source": [
    "# Else below while\n",
    "\n",
    "x = 0\n",
    "while x <= 20:\n",
    "    \n",
    "    if x == 10:\n",
    "        x += 1\n",
    "        continue\n",
    "        \n",
    "    print(x)\n",
    "    x += 2\n",
    "else:\n",
    "    print(\"End\")"
   ]
  },
  {
   "cell_type": "code",
   "execution_count": 22,
   "id": "5c83c6b2",
   "metadata": {},
   "outputs": [
    {
     "name": "stdout",
     "output_type": "stream",
     "text": [
      "['stock', 'buy', 'exp', 'sale', 'gp']\n",
      "While on list:\n",
      "\n",
      "stock\n",
      "buy\n",
      "exp\n",
      "sale\n",
      "gp\n"
     ]
    }
   ],
   "source": [
    "# While on list and tuple\n",
    "\n",
    "trading = ['stock','buy','exp','sale','gp']\n",
    "print(trading)\n",
    "\n",
    "print('While on list:\\n')\n",
    "\n",
    "x = 0\n",
    "while x < len(trading):\n",
    "    print(trading[x])\n",
    "    x += 1"
   ]
  },
  {
   "cell_type": "code",
   "execution_count": 27,
   "id": "399bdc42",
   "metadata": {},
   "outputs": [
    {
     "name": "stdout",
     "output_type": "stream",
     "text": [
      "<class 'tuple'>\n",
      "('stock', 'buy', 'exp', 'sale', 'gp')\n",
      "While on tuple:\n",
      "\n",
      "stock\n",
      "buy\n",
      "exp\n",
      "sale\n",
      "gp\n"
     ]
    }
   ],
   "source": [
    "trading = ('stock','buy','exp','sale','gp')\n",
    "print(type(trading))\n",
    "print(trading)\n",
    "\n",
    "print('While on tuple:\\n')\n",
    "\n",
    "x = 0\n",
    "while x < len(trading):\n",
    "    print(trading[x])\n",
    "    x += 1"
   ]
  },
  {
   "cell_type": "markdown",
   "id": "6b18c1fa",
   "metadata": {},
   "source": [
    "# For Loop"
   ]
  },
  {
   "cell_type": "code",
   "execution_count": 33,
   "id": "04b80431",
   "metadata": {},
   "outputs": [
    {
     "name": "stdout",
     "output_type": "stream",
     "text": [
      "*For Loop*\n",
      "['stock', 'buy', 'exp', 'sale', 'gp']\n",
      "For Loop on List:\n",
      "\n",
      "stock\n",
      "buy\n",
      "exp\n",
      "sale\n",
      "gp\n"
     ]
    }
   ],
   "source": [
    "print('*For Loop*')\n",
    "trading = ['stock','buy','exp','sale','gp']\n",
    "print(trading)\n",
    "\n",
    "print('For Loop on List:\\n')\n",
    "\n",
    "for x in trading:\n",
    "    print(x)"
   ]
  },
  {
   "cell_type": "code",
   "execution_count": 35,
   "id": "155f56b3",
   "metadata": {},
   "outputs": [
    {
     "name": "stdout",
     "output_type": "stream",
     "text": [
      "For loop on string\n",
      "For on str1\n",
      "F\n",
      "o\n",
      "r\n",
      " \n",
      "l\n",
      "o\n",
      "o\n",
      "p\n",
      " \n",
      "o\n",
      "n\n",
      " \n",
      "s\n",
      "t\n",
      "r\n",
      "i\n",
      "n\n",
      "g\n"
     ]
    }
   ],
   "source": [
    "# For Loop on String\n",
    "\n",
    "str1 = \"For loop on string\"\n",
    "print(str1)\n",
    "print('For on str1')\n",
    "\n",
    "for x in str1:\n",
    "    print(x)"
   ]
  },
  {
   "cell_type": "code",
   "execution_count": 36,
   "id": "d5b216ca",
   "metadata": {},
   "outputs": [
    {
     "name": "stdout",
     "output_type": "stream",
     "text": [
      "('stock', 'buy', 'exp', 'sale', 'gp')\n",
      "stock\n",
      "buy\n",
      "exp\n",
      "sale\n",
      "gp\n"
     ]
    }
   ],
   "source": [
    "# For Loop on Tuple\n",
    "\n",
    "trading = ('stock','buy','exp','sale','gp')\n",
    "\n",
    "print(trading)\n",
    "for x in trading:\n",
    "    print(x)"
   ]
  },
  {
   "cell_type": "code",
   "execution_count": 42,
   "id": "35dc3b49",
   "metadata": {},
   "outputs": [
    {
     "name": "stdout",
     "output_type": "stream",
     "text": [
      "*For Loop on Dictionary*\n",
      "{'Name': 'Padmaja', 'Soul': 'Old', 'Caste': 'Spiritual', 'Status': 'Self Aware', 'LuckyNo': 1111222333444}\n",
      "*For Loop on dictionary keys*\n",
      "\n",
      "Name\n",
      "Soul\n",
      "Caste\n",
      "Status\n",
      "LuckyNo\n",
      "*For Loop on dictionary values*\n",
      "\n",
      "Padmaja\n",
      "Old\n",
      "Spiritual\n",
      "Self Aware\n",
      "1111222333444\n",
      "*For Loop on dictionary items*\n",
      "\n",
      "('Name', 'Padmaja')\n",
      "('Soul', 'Old')\n",
      "('Caste', 'Spiritual')\n",
      "('Status', 'Self Aware')\n",
      "('LuckyNo', 1111222333444)\n"
     ]
    }
   ],
   "source": [
    "# For Loop on Dictionary\n",
    "\n",
    "print(\"*For Loop on Dictionary*\")\n",
    "\n",
    "detail ={\n",
    "    \"Name\":\"Padmaja\",\n",
    "    \"Soul\":\"Old\",\n",
    "    \"Caste\":\"Spiritual\",\n",
    "    \"Status\":\"Self Aware\",\n",
    "    \"LuckyNo\":1111222333444,\n",
    "    \n",
    "}\n",
    "print(detail)\n",
    "\n",
    "print(\"*For Loop on dictionary keys*\\n\")\n",
    "for x in detail.keys():\n",
    "    print(x)\n",
    "    \n",
    "print(\"*For Loop on dictionary values*\\n\")\n",
    "for x in detail.values():\n",
    "    print(x)\n",
    "    \n",
    "print(\"*For Loop on dictionary items*\\n\")\n",
    "for x in detail.items():\n",
    "    print(x)\n",
    "    \n"
   ]
  },
  {
   "cell_type": "code",
   "execution_count": 46,
   "id": "3f361f49",
   "metadata": {},
   "outputs": [
    {
     "name": "stdout",
     "output_type": "stream",
     "text": [
      "*For Loop on Set*\n",
      "{'exp', 'gp', 'stock', 'buy', 'sale'}\n",
      "exp\n",
      "gp\n",
      "stock\n",
      "buy\n",
      "sale\n",
      "exp\n",
      "gp\n",
      "stock\n",
      "buy\n",
      "sale\n"
     ]
    }
   ],
   "source": [
    "# For Loop on Set\n",
    "print(\"*For Loop on Set*\")\n",
    "trading = {'stock','buy','exp','sale','gp'}\n",
    "print(trading)\n",
    "\n",
    "for x in trading:\n",
    "    print(x)\n",
    "for x in trading.copy():\n",
    "    print(x)"
   ]
  },
  {
   "cell_type": "markdown",
   "id": "8d0a9b16",
   "metadata": {},
   "source": [
    "# Range"
   ]
  },
  {
   "cell_type": "code",
   "execution_count": 47,
   "id": "78f121e1",
   "metadata": {},
   "outputs": [
    {
     "name": "stdout",
     "output_type": "stream",
     "text": [
      "0\n",
      "1\n",
      "2\n",
      "3\n",
      "4\n",
      "5\n",
      "6\n",
      "7\n",
      "8\n",
      "9\n"
     ]
    }
   ],
   "source": [
    "# For Loop on range\n",
    "\n",
    "for i in range(10):\n",
    "    print(i)"
   ]
  },
  {
   "cell_type": "code",
   "execution_count": 48,
   "id": "f47b5a4d",
   "metadata": {},
   "outputs": [
    {
     "name": "stdout",
     "output_type": "stream",
     "text": [
      "100\n",
      "200\n",
      "300\n",
      "400\n",
      "500\n",
      "600\n",
      "700\n",
      "800\n",
      "900\n",
      "1000\n"
     ]
    }
   ],
   "source": [
    "for i in range(100,1100,100):\n",
    "    print(i)"
   ]
  },
  {
   "cell_type": "code",
   "execution_count": 50,
   "id": "4ff8a91c",
   "metadata": {},
   "outputs": [
    {
     "name": "stdout",
     "output_type": "stream",
     "text": [
      "1\n",
      "3\n",
      "5\n",
      "7\n",
      "9\n",
      "11\n",
      "13\n",
      "15\n",
      "17\n",
      "19\n"
     ]
    }
   ],
   "source": [
    "for i in range(1,20,2):\n",
    "    print(i)"
   ]
  },
  {
   "cell_type": "code",
   "execution_count": 54,
   "id": "2e8e8a29",
   "metadata": {},
   "outputs": [
    {
     "name": "stdout",
     "output_type": "stream",
     "text": [
      "The list is:\n",
      "[10, 20, 30, 40, 50, 60, 70, 80, 90, 11, 22, 33, 44, 55, 66, 77, 88, 99]\n",
      "30\n",
      "60\n",
      "90\n",
      "33\n",
      "66\n",
      "99\n",
      "40\n",
      "80\n",
      "44\n",
      "88\n",
      "50\n",
      "22\n",
      "10\n",
      "11\n",
      "20\n",
      "77\n",
      "70\n",
      "55\n"
     ]
    }
   ],
   "source": [
    "# Writing and removing every 3rd element from the list\n",
    "\n",
    "Numbers = [10,20,30,40,50,60,70,80,90,11,22,33,44,55,66,77,88,99]\n",
    "print(\"The list is:\")\n",
    "print(Numbers)\n",
    "index = 0\n",
    "pos = 3-1\n",
    "x = len(Numbers)\n",
    "while x > 0:\n",
    "    index = (pos + index) % x\n",
    "    print(Numbers.pop(index))\n",
    "    x = x - 1"
   ]
  },
  {
   "cell_type": "markdown",
   "id": "d1239d5d",
   "metadata": {},
   "source": [
    "# Functions"
   ]
  },
  {
   "cell_type": "code",
   "execution_count": 55,
   "id": "adf8f494",
   "metadata": {},
   "outputs": [
    {
     "name": "stdout",
     "output_type": "stream",
     "text": [
      "This is normal Execution block\n",
      "Calling my function\n",
      "I'm inside the function\n",
      "Function execution is over\n"
     ]
    }
   ],
   "source": [
    "print(\"This is normal Execution block\")\n",
    "\n",
    "def MyFun():\n",
    "    print(\"I'm inside the function\")\n",
    "print(\"Calling my function\")\n",
    "MyFun()\n",
    "print(\"Function execution is over\")"
   ]
  },
  {
   "cell_type": "code",
   "execution_count": 57,
   "id": "ef6b8b73",
   "metadata": {},
   "outputs": [
    {
     "name": "stdout",
     "output_type": "stream",
     "text": [
      "Padmaja Jadhav\n"
     ]
    }
   ],
   "source": [
    "# Arguments\n",
    "\n",
    "def MyName(val):\n",
    "    print(val)\n",
    "val = \"Padmaja Jadhav\"\n",
    "MyName(val)"
   ]
  },
  {
   "cell_type": "code",
   "execution_count": 59,
   "id": "889cc542",
   "metadata": {},
   "outputs": [
    {
     "name": "stdout",
     "output_type": "stream",
     "text": [
      "*Additions using function*\n",
      "Addition: 180\n"
     ]
    }
   ],
   "source": [
    "# return values\n",
    "\n",
    "def Add (x,y):\n",
    "    ad = x + y\n",
    "    return ad\n",
    "\n",
    "print(\"*Additions using function*\")\n",
    "a = 60\n",
    "b = 120\n",
    "result = Add(a,b)\n",
    "print(\"Addition:\",result)"
   ]
  },
  {
   "cell_type": "markdown",
   "id": "8aa77e2b",
   "metadata": {},
   "source": [
    "# Lambda Function"
   ]
  },
  {
   "cell_type": "code",
   "execution_count": 66,
   "id": "417a3f3d",
   "metadata": {},
   "outputs": [
    {
     "name": "stdout",
     "output_type": "stream",
     "text": [
      "*Use of Lambda Function*\n",
      "square of 2 is:\n",
      "8\n",
      "Square of 4 is: 64\n"
     ]
    }
   ],
   "source": [
    "print(\"*Use of Lambda Function*\")\n",
    "\n",
    "square = lambda a: a**3\n",
    "print(\"square of 2 is:\")\n",
    "square(2)\n",
    "print(square(2))\n",
    "square(4)\n",
    "print(\"Square of 4 is:\",square(4))"
   ]
  },
  {
   "cell_type": "code",
   "execution_count": 71,
   "id": "00af1bd2",
   "metadata": {},
   "outputs": [
    {
     "name": "stdout",
     "output_type": "stream",
     "text": [
      "Value of n is: 2\n",
      "20\n"
     ]
    }
   ],
   "source": [
    "def myfun(n):\n",
    "    print(\"Value of n is:\",n)\n",
    "    return (lambda a : a * n)\n",
    "otherfun = myfun(2)\n",
    "print(otherfun(10))"
   ]
  },
  {
   "cell_type": "code",
   "execution_count": null,
   "id": "e2f68884",
   "metadata": {},
   "outputs": [],
   "source": []
  }
 ],
 "metadata": {
  "kernelspec": {
   "display_name": "Python 3 (ipykernel)",
   "language": "python",
   "name": "python3"
  },
  "language_info": {
   "codemirror_mode": {
    "name": "ipython",
    "version": 3
   },
   "file_extension": ".py",
   "mimetype": "text/x-python",
   "name": "python",
   "nbconvert_exporter": "python",
   "pygments_lexer": "ipython3",
   "version": "3.9.7"
  }
 },
 "nbformat": 4,
 "nbformat_minor": 5
}
