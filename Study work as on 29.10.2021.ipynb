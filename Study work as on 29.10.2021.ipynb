{
 "cells": [
  {
   "cell_type": "markdown",
   "id": "ebe0e280",
   "metadata": {},
   "source": [
    "# While Loop\n"
   ]
  },
  {
   "cell_type": "raw",
   "id": "f6a8c634",
   "metadata": {},
   "source": [
    "1.Print series of numbers using while loop\n"
   ]
  },
  {
   "cell_type": "code",
   "execution_count": 5,
   "id": "5973c03c",
   "metadata": {},
   "outputs": [
    {
     "name": "stdout",
     "output_type": "stream",
     "text": [
      "1\n",
      "2\n",
      "3\n",
      "4\n",
      "5\n",
      "6\n",
      "7\n",
      "8\n",
      "9\n",
      "10\n",
      "11\n",
      "12\n",
      "13\n",
      "14\n",
      "15\n",
      "16\n",
      "17\n",
      "18\n",
      "19\n",
      "20\n",
      "21\n",
      "22\n",
      "23\n",
      "24\n",
      "25\n"
     ]
    }
   ],
   "source": [
    "x = 1\n",
    "while x<=25:\n",
    "    print(x)\n",
    "    x = x + 1\n",
    "    \n",
    "    "
   ]
  },
  {
   "cell_type": "raw",
   "id": "77480ce3",
   "metadata": {},
   "source": [
    "1.Print series of odd numbers using while loop till 100\n"
   ]
  },
  {
   "cell_type": "code",
   "execution_count": 7,
   "id": "84714bcb",
   "metadata": {},
   "outputs": [
    {
     "name": "stdout",
     "output_type": "stream",
     "text": [
      "1\n",
      "3\n",
      "5\n",
      "7\n",
      "9\n",
      "11\n",
      "13\n",
      "15\n",
      "17\n",
      "19\n",
      "21\n",
      "23\n",
      "25\n",
      "27\n",
      "29\n",
      "31\n",
      "33\n",
      "35\n",
      "37\n",
      "39\n",
      "41\n",
      "43\n",
      "45\n",
      "47\n",
      "49\n",
      "51\n",
      "53\n",
      "55\n",
      "57\n",
      "59\n",
      "61\n",
      "63\n",
      "65\n",
      "67\n",
      "69\n",
      "71\n",
      "73\n",
      "75\n",
      "77\n",
      "79\n",
      "81\n",
      "83\n",
      "85\n",
      "87\n",
      "89\n",
      "91\n",
      "93\n",
      "95\n",
      "97\n",
      "99\n"
     ]
    }
   ],
   "source": [
    "x = 1\n",
    "while x<=100:\n",
    "    print(x)\n",
    "    x = x + 2"
   ]
  },
  {
   "cell_type": "raw",
   "id": "e619c3c9",
   "metadata": {},
   "source": [
    "2.Break statement\n"
   ]
  },
  {
   "cell_type": "code",
   "execution_count": 11,
   "id": "84d89597",
   "metadata": {},
   "outputs": [
    {
     "name": "stdout",
     "output_type": "stream",
     "text": [
      "0\n",
      "1\n",
      "2\n",
      "3\n",
      "4\n",
      "5\n",
      "6\n",
      "7\n",
      "8\n",
      "9\n",
      "10\n",
      "11\n",
      "12\n",
      "13\n",
      "14\n",
      "15\n",
      "16\n",
      "17\n",
      "18\n",
      "19\n",
      "20\n",
      "21\n",
      "22\n",
      "23\n",
      "24\n",
      "25\n"
     ]
    }
   ],
   "source": [
    "x = 0\n",
    "while x < 100:\n",
    "    print(x)\n",
    "    if x == 25:\n",
    "        break\n",
    "    x += 1"
   ]
  },
  {
   "cell_type": "raw",
   "id": "e52c2db3",
   "metadata": {},
   "source": [
    "3.Continue Statement"
   ]
  },
  {
   "cell_type": "code",
   "execution_count": 15,
   "id": "0d6a8c09",
   "metadata": {},
   "outputs": [
    {
     "name": "stdout",
     "output_type": "stream",
     "text": [
      "1\n",
      "2\n",
      "3\n",
      "4\n",
      "5\n",
      "6\n",
      "7\n",
      "8\n",
      "9\n",
      "10\n",
      "11\n",
      "12\n",
      "13\n",
      "14\n",
      "15\n",
      "16\n",
      "17\n",
      "18\n",
      "19\n",
      "20\n",
      "21\n",
      "22\n",
      "23\n",
      "24\n",
      "25\n",
      "26\n",
      "27\n",
      "28\n",
      "29\n",
      "30\n",
      "31\n",
      "32\n",
      "33\n",
      "34\n",
      "35\n",
      "36\n",
      "37\n",
      "38\n",
      "39\n",
      "40\n",
      "41\n",
      "42\n",
      "43\n",
      "44\n",
      "45\n",
      "46\n",
      "47\n",
      "48\n",
      "49\n",
      "51\n",
      "52\n",
      "53\n",
      "54\n",
      "55\n",
      "56\n",
      "57\n",
      "58\n",
      "59\n",
      "60\n",
      "61\n",
      "62\n",
      "63\n",
      "64\n",
      "65\n",
      "66\n",
      "67\n",
      "68\n",
      "69\n",
      "70\n",
      "71\n",
      "72\n",
      "73\n",
      "74\n",
      "75\n",
      "76\n",
      "77\n",
      "78\n",
      "79\n",
      "80\n",
      "81\n",
      "82\n",
      "83\n",
      "84\n",
      "85\n",
      "86\n",
      "87\n",
      "88\n",
      "89\n",
      "90\n",
      "91\n",
      "92\n",
      "93\n",
      "94\n",
      "95\n",
      "96\n",
      "97\n",
      "98\n"
     ]
    }
   ],
   "source": [
    "x = 1\n",
    "while x < 100:\n",
    "    if x == 50 or x == 99:\n",
    "        x += 1\n",
    "        \n",
    "        continue\n",
    "        \n",
    "    print(x)\n",
    "    x +=1\n",
    "        \n"
   ]
  },
  {
   "cell_type": "raw",
   "id": "c1f6e06f",
   "metadata": {},
   "source": [
    "4.Else below while"
   ]
  },
  {
   "cell_type": "code",
   "execution_count": 18,
   "id": "89db63ff",
   "metadata": {},
   "outputs": [
    {
     "name": "stdout",
     "output_type": "stream",
     "text": [
      "1\n",
      "2\n",
      "3\n",
      "4\n",
      "5\n",
      "6\n",
      "7\n",
      "8\n",
      "9\n",
      "10\n",
      "11\n",
      "12\n",
      "13\n",
      "14\n",
      "15\n",
      "16\n",
      "17\n",
      "18\n",
      "19\n",
      "21\n",
      "22\n",
      "23\n",
      "24\n",
      "25\n",
      "26\n",
      "27\n",
      "28\n",
      "29\n",
      "30\n",
      "31\n",
      "32\n",
      "33\n",
      "34\n",
      "35\n",
      "36\n",
      "37\n",
      "38\n",
      "39\n",
      "40\n",
      "41\n",
      "42\n",
      "43\n",
      "44\n",
      "45\n",
      "46\n",
      "47\n",
      "48\n",
      "49\n",
      "50\n",
      "There is no more value to excute\n"
     ]
    }
   ],
   "source": [
    "x = 1\n",
    "while  x <= 50:\n",
    "    \n",
    "    if x == 20:\n",
    "        x += 1\n",
    "        continue\n",
    "        \n",
    "    print(x)\n",
    "    x += 1\n",
    "else:\n",
    "    print(\"There is no more value to excute\")\n",
    "        \n",
    "\n"
   ]
  },
  {
   "cell_type": "raw",
   "id": "b73bcea2",
   "metadata": {},
   "source": [
    "5. While on list and on tuple"
   ]
  },
  {
   "cell_type": "code",
   "execution_count": 29,
   "id": "480b4e8c",
   "metadata": {},
   "outputs": [
    {
     "name": "stdout",
     "output_type": "stream",
     "text": [
      "['profit', 'gain', 'loss', 'trade', 'high']\n",
      "while on list:- \n",
      "profit\n",
      "gain\n",
      "loss\n",
      "trade\n",
      "high\n"
     ]
    }
   ],
   "source": [
    "list1 = [\"profit\",\"gain\",\"loss\",\"trade\",\"high\"]\n",
    "\n",
    "print(list1)\n",
    " \n",
    "print(\"while on list:- \")\n",
    "\n",
    "x = 0\n",
    "while x < len(list1):\n",
    "    print(list1[x])\n",
    "    x += 1\n",
    "    "
   ]
  },
  {
   "cell_type": "code",
   "execution_count": 36,
   "id": "8ceefd0b",
   "metadata": {},
   "outputs": [
    {
     "name": "stdout",
     "output_type": "stream",
     "text": [
      "profit\n",
      " gain\n",
      " loss\n",
      " trade\n",
      " high\n",
      "\n"
     ]
    }
   ],
   "source": [
    "list1 = ['profit', 'gain', 'loss', 'trade', 'high']\n",
    "\n",
    "print('profit\\n','gain\\n','loss\\n','trade\\n','high\\n')"
   ]
  },
  {
   "cell_type": "raw",
   "id": "61ad9e56",
   "metadata": {},
   "source": [
    "6.String"
   ]
  },
  {
   "cell_type": "code",
   "execution_count": 40,
   "id": "7a678a04",
   "metadata": {},
   "outputs": [
    {
     "name": "stdout",
     "output_type": "stream",
     "text": [
      "This is Python\n",
      "for on str1:-\n",
      "T\n",
      "h\n",
      "i\n",
      "s\n",
      " \n",
      "i\n",
      "s\n",
      " \n",
      "P\n",
      "y\n",
      "t\n",
      "h\n",
      "o\n",
      "n\n"
     ]
    }
   ],
   "source": [
    "str1 = \"This is Python\"\n",
    " \n",
    "print(str1)\n",
    "\n",
    "print(\"for on str1:-\")\n",
    "\n",
    "for x in str1:\n",
    "    print(x)\n",
    " "
   ]
  },
  {
   "cell_type": "raw",
   "id": "b2964ccd",
   "metadata": {},
   "source": [
    "7. Tuple"
   ]
  },
  {
   "cell_type": "code",
   "execution_count": 1,
   "id": "d080700f",
   "metadata": {},
   "outputs": [
    {
     "name": "stdout",
     "output_type": "stream",
     "text": [
      "('profit', 'gain', 'loss', 'trade', 'high')\n",
      "for on tuple:-\n",
      "profit\n",
      "gain\n",
      "loss\n",
      "trade\n",
      "high\n"
     ]
    }
   ],
   "source": [
    "tup = ('profit', 'gain', 'loss', 'trade', 'high')\n",
    "\n",
    "print(tup)\n",
    "\n",
    "print(\"for on tuple:-\")\n",
    "\n",
    "for x in tup:\n",
    "    print(x)"
   ]
  },
  {
   "cell_type": "raw",
   "id": "ccf643c1",
   "metadata": {},
   "source": []
  },
  {
   "cell_type": "code",
   "execution_count": 2,
   "id": "d8ac975c",
   "metadata": {},
   "outputs": [
    {
     "name": "stdout",
     "output_type": "stream",
     "text": [
      "None\n"
     ]
    }
   ],
   "source": [
    "def character(str):\n",
    "    result = ''\n",
    "    for char in str:\n",
    "        result += char*2\n",
    "    return\n",
    "print(character(\"*\"))\n",
    "        "
   ]
  },
  {
   "cell_type": "code",
   "execution_count": 11,
   "id": "5594da46",
   "metadata": {},
   "outputs": [
    {
     "name": "stdout",
     "output_type": "stream",
     "text": [
      "Square of 4 is: \n",
      "0\n",
      "1\n",
      "4\n",
      "9\n",
      "16\n",
      "25\n",
      "36\n",
      "49\n",
      "64\n",
      "81\n"
     ]
    }
   ],
   "source": [
    "\n",
    "square = lambda a: a ** 2\n",
    "\n",
    "print(\"Square of 4 is: \")\n",
    "\n",
    "for i in range(0,10):\n",
    "    \n",
    "    print(square(i))\n",
    "\n",
    "\n"
   ]
  },
  {
   "cell_type": "raw",
   "id": "c0495a17",
   "metadata": {},
   "source": [
    "8.Dictionery\n"
   ]
  },
  {
   "cell_type": "code",
   "execution_count": null,
   "id": "97c39121",
   "metadata": {},
   "outputs": [],
   "source": [
    "dict1. = {\n",
    "    'Name' : 'Padmaja',\n",
    "    'Mobile' : 7588635613,\n",
    "    'Address' : 'Dushere',\n",
    "    'Job' : 'Intern',\n",
    "    'Salary' : 1000000,\n",
    "    1 : 100\n",
    "\n",
    "}\n",
    "\n",
    "print(dict1)"
   ]
  },
  {
   "cell_type": "code",
   "execution_count": 3,
   "id": "3a7d5924",
   "metadata": {},
   "outputs": [
    {
     "name": "stdout",
     "output_type": "stream",
     "text": [
      "{'Name': 'Padmaja', 'Mobile': 7588635613, 'Address': 'Dushere', 'Job': 'Intern', 'Salary': 1000000, 1: 100}\n",
      "for on dict printing keys:\n",
      "Name\n",
      "Mobile\n",
      "Address\n",
      "Job\n",
      "Salary\n",
      "1\n",
      "for on dict printing values:\n",
      "Padmaja\n",
      "7588635613\n",
      "Dushere\n",
      "Intern\n",
      "1000000\n",
      "100\n",
      "for on dict printing pairs:\n",
      "( Name , Padmaja )\n",
      "( Mobile , 7588635613 )\n",
      "( Address , Dushere )\n",
      "( Job , Intern )\n",
      "( Salary , 1000000 )\n",
      "( 1 , 100 )\n"
     ]
    }
   ],
   "source": [
    "dict1 = {\n",
    "    'Name' : 'Padmaja',\n",
    "    'Mobile' : 7588635613,\n",
    "    'Address' : 'Dushere',\n",
    "    'Job' : 'Intern',\n",
    "    'Salary' : 1000000,\n",
    "    1 : 100\n",
    "\n",
    "}\n",
    "\n",
    "print(dict1)\n",
    "\n",
    "print(\"for on dict printing keys:\")\n",
    "for x in dict1.keys():\n",
    "    print(x)\n",
    "    \n",
    "print(\"for on dict printing values:\")\n",
    "for x in dict1.values():\n",
    "    print(x)\n",
    "    \n",
    "print(\"for on dict printing pairs:\")\n",
    "for x,y in dict1.items():\n",
    "    print(\"(\",x,\",\",y,\")\")"
   ]
  },
  {
   "cell_type": "raw",
   "id": "3cc50b22",
   "metadata": {},
   "source": [
    "9.Set"
   ]
  },
  {
   "cell_type": "code",
   "execution_count": 4,
   "id": "e9b6f725",
   "metadata": {},
   "outputs": [
    {
     "name": "stdout",
     "output_type": "stream",
     "text": [
      "{'loss', 'trade', 'inter', 'gain', 'profit'}\n",
      "for on set1:-\n",
      "loss\n",
      "trade\n",
      "inter\n",
      "gain\n",
      "profit\n"
     ]
    }
   ],
   "source": [
    "set1 = {'profit','loss','gain','trade','inter'}\n",
    "\n",
    "print(set1)\n",
    "\n",
    "print(\"for on set1:-\")\n",
    "\n",
    "for x in set1:\n",
    "    print(x)"
   ]
  },
  {
   "cell_type": "markdown",
   "id": "e8644309",
   "metadata": {},
   "source": [
    "# Range"
   ]
  },
  {
   "cell_type": "code",
   "execution_count": 7,
   "id": "39b38034",
   "metadata": {},
   "outputs": [
    {
     "name": "stdout",
     "output_type": "stream",
     "text": [
      "21\n",
      "22\n",
      "23\n",
      "24\n",
      "25\n",
      "26\n",
      "27\n",
      "28\n",
      "29\n",
      "30\n"
     ]
    }
   ],
   "source": [
    "for i in range(21,31):\n",
    "    print(i)"
   ]
  },
  {
   "cell_type": "code",
   "execution_count": 8,
   "id": "12b63870",
   "metadata": {},
   "outputs": [
    {
     "name": "stdout",
     "output_type": "stream",
     "text": [
      "5\n",
      "7\n",
      "9\n"
     ]
    }
   ],
   "source": [
    "for x in range (5,11,2):\n",
    "    print(x)"
   ]
  },
  {
   "cell_type": "code",
   "execution_count": 10,
   "id": "599cdc23",
   "metadata": {},
   "outputs": [
    {
     "name": "stdout",
     "output_type": "stream",
     "text": [
      "1\n",
      "3\n",
      "5\n",
      "7\n",
      "9\n",
      "11\n",
      "13\n",
      "15\n",
      "17\n",
      "19\n",
      "21\n",
      "23\n",
      "25\n",
      "27\n",
      "29\n",
      "31\n",
      "33\n",
      "35\n",
      "37\n",
      "39\n",
      "41\n",
      "43\n",
      "45\n",
      "47\n",
      "49\n"
     ]
    }
   ],
   "source": [
    "# printing odd numbers till 50\n",
    "for y in range (1,51,2):\n",
    "    print(y)"
   ]
  },
  {
   "cell_type": "raw",
   "id": "c1043637",
   "metadata": {},
   "source": [
    "# Else in for"
   ]
  },
  {
   "cell_type": "code",
   "execution_count": 11,
   "id": "f0b99247",
   "metadata": {},
   "outputs": [
    {
     "name": "stdout",
     "output_type": "stream",
     "text": [
      "100\n",
      "110\n",
      "120\n",
      "130\n",
      "140\n",
      "150\n",
      "160\n",
      "170\n",
      "180\n",
      "190\n",
      "200\n",
      "There is nothing to print from now\n"
     ]
    }
   ],
   "source": [
    "for i in range (100,201,10):\n",
    "    print(i)\n",
    "else:\n",
    "    print(\"There is nothing to print from now\")"
   ]
  },
  {
   "cell_type": "raw",
   "id": "9cf0388a",
   "metadata": {},
   "source": [
    "# Writinfg and removing every 3rd element from a list"
   ]
  },
  {
   "cell_type": "code",
   "execution_count": 19,
   "id": "ca233dc4",
   "metadata": {},
   "outputs": [
    {
     "name": "stdout",
     "output_type": "stream",
     "text": [
      "list is : [10, 20, 30, 40, 50, 60, 70, 80, 90]\n",
      "30\n",
      "60\n",
      "90\n",
      "40\n",
      "80\n",
      "50\n",
      "20\n",
      "70\n",
      "10\n"
     ]
    }
   ],
   "source": [
    "list1 = [10,20,30,40,50,60,70,80,90]\n",
    "\n",
    "print(\"list is :\",list1)\n",
    "index = 0\n",
    "pos = 3-1\n",
    "l = len(list1)\n",
    "while l>0:\n",
    "    index = (pos + index) % l\n",
    "    print(list1.pop(index))\n",
    "    l = l - 1"
   ]
  },
  {
   "cell_type": "code",
   "execution_count": 23,
   "id": "40a286f5",
   "metadata": {},
   "outputs": [
    {
     "name": "stdout",
     "output_type": "stream",
     "text": [
      "list is : [10, 20, 30, 40, 50, 60, 70, 80, 90]\n",
      "30\n",
      "60\n",
      "90\n",
      "40\n",
      "80\n",
      "50\n",
      "20\n",
      "70\n",
      "10\n"
     ]
    }
   ],
   "source": [
    "list_1 = [10,20,30,40,50,60,70,80,90]\n",
    "\n",
    "print(\"list is :\",list_1)\n",
    "index = 0\n",
    "pos = 3-1\n",
    "l = len(list_1)\n",
    "while l>0:\n",
    "    index = (pos + index) % l\n",
    "    print(list_1.pop(index))\n",
    "    l = l - 1"
   ]
  },
  {
   "cell_type": "markdown",
   "id": "88312c17",
   "metadata": {},
   "source": [
    "# Function"
   ]
  },
  {
   "cell_type": "code",
   "execution_count": 30,
   "id": "5ee4e548",
   "metadata": {},
   "outputs": [
    {
     "name": "stdout",
     "output_type": "stream",
     "text": [
      "Application of Function\n",
      "\n",
      "Part of Function\n",
      "\n",
      "function is executed\n"
     ]
    }
   ],
   "source": [
    "print(\"Application of Function\")\n",
    "\n",
    "def fstfun():\n",
    "    print(\"\\nPart of Function\\n\")\n",
    "\n",
    "fstfun()\n",
    "print(\"function is executed\")"
   ]
  },
  {
   "cell_type": "raw",
   "id": "57f3a5f9",
   "metadata": {},
   "source": [
    "# Arguments in function"
   ]
  },
  {
   "cell_type": "code",
   "execution_count": 31,
   "id": "433d6f97",
   "metadata": {},
   "outputs": [
    {
     "name": "stdout",
     "output_type": "stream",
     "text": [
      "Padmaja\n"
     ]
    }
   ],
   "source": [
    "def myfun(val):\n",
    "    print(val)\n",
    "    \n",
    "val = \"Padmaja\"\n",
    "myfun(val)"
   ]
  },
  {
   "cell_type": "raw",
   "id": "147fa437",
   "metadata": {},
   "source": [
    " Return Values"
   ]
  },
  {
   "cell_type": "code",
   "execution_count": 32,
   "id": "a2fc96ab",
   "metadata": {},
   "outputs": [
    {
     "name": "stdout",
     "output_type": "stream",
     "text": [
      "Addition using function\n",
      "Addition is: 15\n"
     ]
    }
   ],
   "source": [
    "def add(x,y):\n",
    "    ad = x + y\n",
    "    return ad\n",
    "print(\"Addition using function\")\n",
    "a = 5\n",
    "b = 10\n",
    "result = add(a,b)\n",
    "print(\"Addition is:\",result)"
   ]
  },
  {
   "cell_type": "code",
   "execution_count": 33,
   "id": "9eec46fb",
   "metadata": {},
   "outputs": [
    {
     "name": "stdout",
     "output_type": "stream",
     "text": [
      "Multiplication using function\n",
      "Multiplication is: 6\n"
     ]
    }
   ],
   "source": [
    "def mult(x,y):\n",
    "    multi = x*y\n",
    "    return multi\n",
    "print(\"Multiplication using function\")\n",
    "a = 2\n",
    "b = 3\n",
    "result = mult(a,b)\n",
    "print(\"Multiplication is:\",result)"
   ]
  },
  {
   "cell_type": "raw",
   "id": "4bbf4927",
   "metadata": {},
   "source": [
    "Unknown Parameters"
   ]
  },
  {
   "cell_type": "code",
   "execution_count": 34,
   "id": "07bce68a",
   "metadata": {},
   "outputs": [
    {
     "name": "stdout",
     "output_type": "stream",
     "text": [
      "The letter at 2nd loc is  ('a', 'b', 'c', 'd', 'e')\n"
     ]
    }
   ],
   "source": [
    "def unfun(*letter):\n",
    "    print(\"The letter at 2nd loc is \",letter)\n",
    "unfun(\"a\",\"b\",\"c\",\"d\",\"e\")\n"
   ]
  },
  {
   "cell_type": "code",
   "execution_count": 35,
   "id": "472d34ce",
   "metadata": {},
   "outputs": [
    {
     "name": "stdout",
     "output_type": "stream",
     "text": [
      "The smartest student is: Padmaja\n"
     ]
    }
   ],
   "source": [
    "def unfun(std1,std2,std3):\n",
    "    print(\"The smartest student is:\",std2)\n",
    "\n",
    "unfun(std1=\"Aish\",std2=\"Padmaja\",std3=\"Mrunal\")"
   ]
  },
  {
   "cell_type": "code",
   "execution_count": 2,
   "id": "52891cc9",
   "metadata": {},
   "outputs": [
    {
     "name": "stdout",
     "output_type": "stream",
     "text": [
      "Her full name is Padmaja Jadhav\n"
     ]
    }
   ],
   "source": [
    "def myfun(**name):\n",
    "    print(\"Her full name is\",name['fname'],name['lname'])\n",
    "    \n",
    "myfun(fname = 'Padmaja',lname = 'Jadhav')    "
   ]
  },
  {
   "cell_type": "code",
   "execution_count": 3,
   "id": "e47fe51a",
   "metadata": {},
   "outputs": [
    {
     "name": "stdout",
     "output_type": "stream",
     "text": [
      "Alternate email of student:\n",
      "Alternate email is : abc@gmail.com\n",
      "Alternate email is : efg@gmail.com\n",
      "Alternate email is : default@gmail.com\n"
     ]
    }
   ],
   "source": [
    "def AltMail(email = \"default@gmail.com\"):\n",
    "    print(\"Alternate email is :\",email)\n",
    "    \n",
    "print(\"Alternate email of student:\")\n",
    "\n",
    "AltMail(\"abc@gmail.com\")\n",
    "AltMail(\"efg@gmail.com\")\n",
    "AltMail()"
   ]
  },
  {
   "cell_type": "code",
   "execution_count": null,
   "id": "4edfe52c",
   "metadata": {},
   "outputs": [],
   "source": []
  }
 ],
 "metadata": {
  "kernelspec": {
   "display_name": "Python 3 (ipykernel)",
   "language": "python",
   "name": "python3"
  },
  "language_info": {
   "codemirror_mode": {
    "name": "ipython",
    "version": 3
   },
   "file_extension": ".py",
   "mimetype": "text/x-python",
   "name": "python",
   "nbconvert_exporter": "python",
   "pygments_lexer": "ipython3",
   "version": "3.9.7"
  }
 },
 "nbformat": 4,
 "nbformat_minor": 5
}
