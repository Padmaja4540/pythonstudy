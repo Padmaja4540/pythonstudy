{
 "cells": [
  {
   "cell_type": "markdown",
   "id": "f3a3e085",
   "metadata": {},
   "source": [
    "# Operators\n"
   ]
  },
  {
   "cell_type": "markdown",
   "id": "5dc8b172",
   "metadata": {},
   "source": [
    "1.Arithmatical Operators"
   ]
  },
  {
   "cell_type": "code",
   "execution_count": 12,
   "id": "51db425b",
   "metadata": {},
   "outputs": [
    {
     "name": "stdout",
     "output_type": "stream",
     "text": [
      "a+b\n",
      " 75\n",
      "a-b\n",
      " -25\n",
      "a*b\n",
      " 1250\n",
      "a/b\n",
      " 0.5\n",
      "b%d\n",
      " 50\n",
      "b//d\n",
      " 0\n"
     ]
    }
   ],
   "source": [
    "a = 25\n",
    "b = 50\n",
    "c = 75\n",
    "d = 100\n",
    "\n",
    "print('a+b\\n', a+b)\n",
    "print('a-b\\n',a-b)\n",
    "print('a*b\\n',a*b)\n",
    "print('a/b\\n',a/b)\n",
    "print('b%d\\n',b%d)\n",
    "print('b//d\\n',b//d)"
   ]
  },
  {
   "cell_type": "markdown",
   "id": "97519355",
   "metadata": {},
   "source": [
    "2. Assignment Operator"
   ]
  },
  {
   "cell_type": "code",
   "execution_count": 25,
   "id": "f8b28c7f",
   "metadata": {},
   "outputs": [
    {
     "name": "stdout",
     "output_type": "stream",
     "text": [
      "value of x is:\t 10\n",
      "value of x is:\t 210\n",
      "value of x is:\t 420\n",
      "value of x is:\t 10.0\n",
      "value of x is:\t 1.0\n",
      "value of x is:\t 0.0\n"
     ]
    }
   ],
   "source": [
    "x = 10\n",
    "print('value of x is:\\t',x)\n",
    "\n",
    "x += 200\n",
    "\n",
    "print('value of x is:\\t',x)\n",
    "\n",
    "x *=2\n",
    "print('value of x is:\\t',x)\n",
    "\n",
    "x /=42\n",
    "print('value of x is:\\t',x)\n",
    "\n",
    "x //=9\n",
    "print('value of x is:\\t',x)\n",
    "\n",
    "x %=1\n",
    "print('value of x is:\\t',x)\n"
   ]
  },
  {
   "cell_type": "markdown",
   "id": "a8084b45",
   "metadata": {},
   "source": [
    "3.Comparison Operators"
   ]
  },
  {
   "cell_type": "code",
   "execution_count": 35,
   "id": "ccb3130c",
   "metadata": {},
   "outputs": [
    {
     "name": "stdout",
     "output_type": "stream",
     "text": [
      "x is equal to y: False\n",
      "x is not equal to y: True\n",
      "y is greater than x: True\n",
      "x is less than y: True\n",
      "x is greater than or equal to y: False\n",
      "y is greater than or equal to x: True\n",
      "x is less than y: True\n"
     ]
    }
   ],
   "source": [
    "x=100\n",
    "y=500\n",
    "\n",
    "print ('x is equal to y:',x==y)\n",
    "print('x is not equal to y:',x!=y)\n",
    "print('y is greater than x:',y>x)\n",
    "print('x is less than y:',x<y)\n",
    "print('x is greater than or equal to y:',x>=y)\n",
    "print('y is greater than or equal to x:',y>=x)\n",
    "print('x is less than y:',x<y)"
   ]
  },
  {
   "cell_type": "markdown",
   "id": "89070ecb",
   "metadata": {},
   "source": [
    "4.Logical Operators\n"
   ]
  },
  {
   "cell_type": "code",
   "execution_count": 37,
   "id": "c8ca9798",
   "metadata": {},
   "outputs": [
    {
     "name": "stdout",
     "output_type": "stream",
     "text": [
      "True\n",
      "False\n"
     ]
    }
   ],
   "source": [
    "x=10\n",
    "y=20\n",
    "\n",
    "print(x>y or x<y)\n",
    "print(x>y and x<y)"
   ]
  },
  {
   "cell_type": "markdown",
   "id": "6ecff9e3",
   "metadata": {},
   "source": [
    "5.Identity Operators"
   ]
  },
  {
   "cell_type": "code",
   "execution_count": 41,
   "id": "bd87ff7b",
   "metadata": {},
   "outputs": [
    {
     "name": "stdout",
     "output_type": "stream",
     "text": [
      "x is y: True\n",
      "y is 10: True\n"
     ]
    },
    {
     "name": "stderr",
     "output_type": "stream",
     "text": [
      "<>:5: SyntaxWarning: \"is\" with a literal. Did you mean \"==\"?\n",
      "<>:5: SyntaxWarning: \"is\" with a literal. Did you mean \"==\"?\n",
      "C:\\Users\\Admin\\AppData\\Local\\Temp/ipykernel_9496/868984007.py:5: SyntaxWarning: \"is\" with a literal. Did you mean \"==\"?\n",
      "  print('y is 10:',y is 10)\n"
     ]
    }
   ],
   "source": [
    "x=10\n",
    "y=x\n",
    "\n",
    "print('x is y:',x is y)\n",
    "print('y is 10:',y is 10)"
   ]
  },
  {
   "cell_type": "markdown",
   "id": "d62a5d3d",
   "metadata": {},
   "source": [
    "6.Membership Operators"
   ]
  },
  {
   "cell_type": "code",
   "execution_count": 44,
   "id": "732c6878",
   "metadata": {},
   "outputs": [
    {
     "name": "stdout",
     "output_type": "stream",
     "text": [
      "1 in x\t: True\n",
      "10 in x\t: False\n"
     ]
    }
   ],
   "source": [
    "x =(1,2,3)\n",
    "y =(4,5,6)\n",
    "\n",
    "print('1 in x\\t:',1 in x)\n",
    "print('10 in x\\t:',10 in x)"
   ]
  },
  {
   "cell_type": "code",
   "execution_count": null,
   "id": "a54a679e",
   "metadata": {},
   "outputs": [],
   "source": []
  }
 ],
 "metadata": {
  "kernelspec": {
   "display_name": "Python 3 (ipykernel)",
   "language": "python",
   "name": "python3"
  },
  "language_info": {
   "codemirror_mode": {
    "name": "ipython",
    "version": 3
   },
   "file_extension": ".py",
   "mimetype": "text/x-python",
   "name": "python",
   "nbconvert_exporter": "python",
   "pygments_lexer": "ipython3",
   "version": "3.9.7"
  }
 },
 "nbformat": 4,
 "nbformat_minor": 5
}
