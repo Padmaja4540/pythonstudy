{
 "cells": [
  {
   "cell_type": "code",
   "execution_count": 1,
   "id": "c0532229",
   "metadata": {},
   "outputs": [],
   "source": [
    "a={1,2,3,4,5,6,7,8,9}\n",
    "b={'aa','bb','cc','dd'}\n",
    "c={11.1,22.2,33.3,44.4,55.5}\n",
    "d={2+4j,3+6j,4+8j,5+10j}\n",
    "e=({1:ll,3:aa,4:bb,5:cc,6:ee,7:ff,8:gg})\n",
    "f={1,2,3,4,5,6,7,8,9,'aa','bb','cc','dd',11.1,22.2,33.3,44.4,55.5,2+4j,3+6j,4+8j,5+10j}\n",
    "\n"
   ]
  },
  {
   "cell_type": "code",
   "execution_count": 19,
   "id": "a853e9de",
   "metadata": {},
   "outputs": [
    {
     "name": "stdout",
     "output_type": "stream",
     "text": [
      "[1, 2, 3, 4, 5, 6, 7, 8, 9]\n",
      "<class 'list'>\n",
      "('aa', 'dd', 'bb', 'cc')\n",
      "<class 'tuple'>\n"
     ]
    },
    {
     "ename": "TypeError",
     "evalue": "cannot convert dictionary update sequence element #0 to a sequence",
     "output_type": "error",
     "traceback": [
      "\u001b[1;31m---------------------------------------------------------------------------\u001b[0m",
      "\u001b[1;31mTypeError\u001b[0m                                 Traceback (most recent call last)",
      "\u001b[1;32m~\\AppData\\Local\\Temp/ipykernel_9620/403048759.py\u001b[0m in \u001b[0;36m<module>\u001b[1;34m\u001b[0m\n\u001b[0;32m     12\u001b[0m \u001b[1;33m\u001b[0m\u001b[0m\n\u001b[0;32m     13\u001b[0m \u001b[1;31m#Typecasting into DICTONERIES\u001b[0m\u001b[1;33m\u001b[0m\u001b[1;33m\u001b[0m\u001b[0m\n\u001b[1;32m---> 14\u001b[1;33m \u001b[0mj\u001b[0m\u001b[1;33m=\u001b[0m\u001b[0mdict\u001b[0m\u001b[1;33m(\u001b[0m\u001b[0me\u001b[0m\u001b[1;33m)\u001b[0m\u001b[1;33m\u001b[0m\u001b[1;33m\u001b[0m\u001b[0m\n\u001b[0m\u001b[0;32m     15\u001b[0m \u001b[1;33m\u001b[0m\u001b[0m\n\u001b[0;32m     16\u001b[0m \u001b[0mprint\u001b[0m\u001b[1;33m(\u001b[0m\u001b[0mj\u001b[0m\u001b[1;33m)\u001b[0m\u001b[1;33m\u001b[0m\u001b[1;33m\u001b[0m\u001b[0m\n",
      "\u001b[1;31mTypeError\u001b[0m: cannot convert dictionary update sequence element #0 to a sequence"
     ]
    }
   ],
   "source": [
    "#Typecasting into LIST\n",
    "\n",
    "g=list(a)\n",
    "print(g)\n",
    "print(type(g))\n",
    "\n",
    "#Typecasting into TUPLE\n",
    "\n",
    "h=tuple(b)\n",
    "print(h)\n",
    "print(type(h))\n",
    "\n",
    "#Typecasting into DICTONERIES\n",
    "j=dict(e)\n",
    "\n",
    "print(j)\n",
    "print(type(j))"
   ]
  },
  {
   "cell_type": "markdown",
   "id": "7ef1d16a",
   "metadata": {},
   "source": [
    "# Set Functions\n"
   ]
  },
  {
   "cell_type": "code",
   "execution_count": 63,
   "id": "87156613",
   "metadata": {},
   "outputs": [
    {
     "name": "stdout",
     "output_type": "stream",
     "text": [
      "{1, 2, 3, 4, 5, 6, 7, 8, 9, 10}\n",
      "{'aa', 'dd', 'bb', 'cc'}\n",
      "{33.3, 22.2, 55.5, 11.1, 44.4}\n",
      "{'aa', 'dd', 'bb', 'cc'}\n",
      "{33.3, 22.2, 55.5, 11.1, 44.4}\n",
      "{'aa', 'dd', 'bb', 'cc'}\n",
      "{22.2, 55.5, 11.1, 44.4}\n",
      "set()\n",
      "None\n",
      "True\n",
      "True\n",
      "False\n",
      "{2, 3, 4, 5, 6, 7, 8, 9, 10}\n",
      "{'dd', 'bb', 'cc'}\n",
      "{2, 3, 4, 5, 6, 7, 8, 9, 10}\n",
      "{2, 3, 4, 5, 6, 7, 8, 9, 10, 'dd', 'bb', 'cc'}\n",
      "{1, 2, 3, 4, 5, 6, 7, 8, 9, 11.1, 'bb', (2+4j), (3+6j), 22.2, 'aa', (4+8j), 33.3, (5+10j), 44.4, 'dd', 'cc', 55.5}\n",
      "{'dd', 'bb', 'cc'}\n",
      "{'dd', 'bb', 'cc'}\n"
     ]
    }
   ],
   "source": [
    "a={1,2,3,4,5,6,7,8,9}\n",
    "b={'aa','bb','cc','dd'}\n",
    "c={11.1,22.2,33.3,44.4,55.5}\n",
    "d={2+4j,3+6j,4+8j,5+10j}\n",
    "\n",
    "f={1,2,3,4,5,6,7,8,9,'aa','bb','cc','dd',11.1,22.2,33.3,44.4,55.5,2+4j,3+6j,4+8j,5+10j}\n",
    "\n",
    "\n",
    "g=a.add(10)\n",
    "print(a)\n",
    "\n",
    "h=b.copy()\n",
    "print(b)\n",
    "\n",
    "i=c.difference(b)\n",
    "print(c)\n",
    "\n",
    "j=b.difference(c)\n",
    "print(b)\n",
    "\n",
    "k=c.difference_update(b)\n",
    "print(c)\n",
    "\n",
    "l=b.difference_update(c)\n",
    "print(b)\n",
    "\n",
    "m=c.discard(33.3)\n",
    "print(c)\n",
    "\n",
    "n=c.intersection(d)\n",
    "print(n)\n",
    "\n",
    "o=c.intersection_update(d)\n",
    "print(o)\n",
    "\n",
    "p=d.isdisjoint(a)\n",
    "print(p)\n",
    "\n",
    "q=d.issubset(f)\n",
    "print(q)\n",
    "\n",
    "r=f.issuperset(a)\n",
    "print(r)\n",
    "\n",
    "s=a.pop()\n",
    "print(a)\n",
    "\n",
    "t=b.remove('aa')\n",
    "print(b)\n",
    "\n",
    "u=a.symmetric_difference(b)\n",
    "print(a)\n",
    "\n",
    "v=a.symmetric_difference_update(b)\n",
    "print(a)\n",
    "\n",
    "w=b.union(f)\n",
    "print(w)\n",
    "\n",
    "y=c.update(b)\n",
    "print(c)\n",
    "print(b)"
   ]
  },
  {
   "cell_type": "markdown",
   "id": "790a759c",
   "metadata": {},
   "source": [
    "# Functions of Frozenset"
   ]
  },
  {
   "cell_type": "code",
   "execution_count": 85,
   "id": "364078c6",
   "metadata": {},
   "outputs": [
    {
     "name": "stdout",
     "output_type": "stream",
     "text": [
      "<class 'frozenset'>\n",
      "frozenset({(5+10j), (4+8j), (3+6j), (2+4j)})\n",
      "<class 'frozenset'>\n",
      "frozenset({1, 2, 3, 4, 5, 6, 7, 8, 9})\n",
      "frozenset({'dd', 'aa', 'bb', 'cc'})\n",
      "frozenset({'aa', 'dd', 'bb', 'cc'})\n",
      "frozenset({1, 2, 3, 4, 5, 6, 7, 8, 9})\n",
      "frozenset({'dd', 'aa', 'bb', 'cc'})\n",
      "frozenset({33.3, 22.2, 55.5, 11.1, 44.4})\n",
      "<class 'frozenset'>\n",
      "frozenset({1, 2, 3, 4, 5, 6, 7, 8, 9})\n",
      "True\n",
      "True\n",
      "False\n",
      "True\n",
      "frozenset({1, 2, 3, 4, 5, 6, 7, 8, 9, 'dd', 'bb', 'cc', 'aa'})\n",
      "frozenset({1, 2, 3, 4, 5, 6, 7, 8, 9})\n"
     ]
    }
   ],
   "source": [
    "a=frozenset((1,2,3,4,5,6,7,8,9))\n",
    "b=frozenset(('aa','bb','cc','dd'))\n",
    "c={11.1,22.2,33.3,44.4,55.5}\n",
    "d={2+4j,3+6j,4+8j,5+10j}\n",
    "e={'aaa','a1a','b2b','c3c','d4d'}\n",
    "f={1,2,3,4,5,6,7,8,9,'aa','bb','cc','dd',11.1,22.2,33.3,44.4,55.5,2+4j,3+6j,4+8j,5+10j}\n",
    "\n",
    "\n",
    "print(type(a))\n",
    "h=frozenset(d)\n",
    "print(h)\n",
    "print(type(h))\n",
    "\n",
    "i=a.copy()\n",
    "print(i)\n",
    "\n",
    "j=b.difference(a)\n",
    "print(b)\n",
    "print(j)\n",
    "\n",
    "k=a.difference(b)\n",
    "print(a)\n",
    "print(b)\n",
    "\n",
    "l=frozenset(c)\n",
    "print(l)\n",
    "print(type(l))\n",
    "\n",
    "m=a.intersection(f)\n",
    "print(m)\n",
    "\n",
    "n=b.isdisjoint(e)\n",
    "print(n)\n",
    "\n",
    "o=a.issubset(f)\n",
    "print(o)\n",
    "\n",
    "p=a.issuperset(f)\n",
    "print(p)\n",
    "\n",
    "q=f.issuperset(a)\n",
    "print(q)\n",
    "\n",
    "r=a.symmetric_difference(b)\n",
    "print(r)\n",
    "print(a)\n"
   ]
  },
  {
   "cell_type": "markdown",
   "id": "4518ed7a",
   "metadata": {},
   "source": [
    "# Creation of Multiple Dictioneries\n",
    "\n"
   ]
  },
  {
   "cell_type": "code",
   "execution_count": 87,
   "id": "0d11568b",
   "metadata": {},
   "outputs": [
    {
     "name": "stdout",
     "output_type": "stream",
     "text": [
      "<class 'dict'>\n",
      "<class 'dict'>\n"
     ]
    }
   ],
   "source": [
    "trading={'Op':'lystock','purchase':'new','DIExp':'MfgExp','GP':'10,000'}\n",
    "PnL={'DiExp':'trading','IndExp':'OfficeExp','IndInc':'IntInc','NP':'25,000'}\n",
    "\n",
    "print(type(trading))\n",
    "print(type(PnL))"
   ]
  },
  {
   "cell_type": "code",
   "execution_count": 93,
   "id": "22d9d62a",
   "metadata": {},
   "outputs": [
    {
     "name": "stdout",
     "output_type": "stream",
     "text": [
      "{'O': 'intstock', 'p': 'intstock', 'S': 'intstock', 't': 'intstock', 'o': 'intstock', 'c': 'intstock', 'k': 'intstock'}\n"
     ]
    }
   ],
   "source": [
    "b=trading.fromkeys('OpStock','intstock')\n",
    "print(b)"
   ]
  },
  {
   "cell_type": "code",
   "execution_count": 98,
   "id": "d2493357",
   "metadata": {},
   "outputs": [
    {
     "name": "stdout",
     "output_type": "stream",
     "text": [
      "('lystock', 'MfgExp', '10,000')\n"
     ]
    }
   ],
   "source": [
    "c=trading.get('Op'),trading.get('DIExp'),trading.get('GP')\n",
    "print(c)"
   ]
  },
  {
   "cell_type": "code",
   "execution_count": 101,
   "id": "d5c724e6",
   "metadata": {},
   "outputs": [
    {
     "name": "stdout",
     "output_type": "stream",
     "text": [
      "dict_items([('Op', 'lystock'), ('purchase', 'new'), ('DIExp', 'MfgExp'), ('GP', '10,000')])\n"
     ]
    }
   ],
   "source": [
    "d=trading.items()\n",
    "print(d)"
   ]
  },
  {
   "cell_type": "code",
   "execution_count": 102,
   "id": "fa117d96",
   "metadata": {},
   "outputs": [
    {
     "name": "stdout",
     "output_type": "stream",
     "text": [
      "dict_keys(['Op', 'purchase', 'DIExp', 'GP'])\n"
     ]
    }
   ],
   "source": [
    "e=trading.keys()\n",
    "print(e)"
   ]
  },
  {
   "cell_type": "code",
   "execution_count": 103,
   "id": "5f85f664",
   "metadata": {},
   "outputs": [
    {
     "name": "stdout",
     "output_type": "stream",
     "text": [
      "dict_values(['lystock', 'new', 'MfgExp', '10,000'])\n"
     ]
    }
   ],
   "source": [
    "f=trading.values()\n",
    "print(f)\n"
   ]
  },
  {
   "cell_type": "code",
   "execution_count": 115,
   "id": "33937e3e",
   "metadata": {},
   "outputs": [
    {
     "name": "stdout",
     "output_type": "stream",
     "text": [
      "MfgExp\n"
     ]
    }
   ],
   "source": [
    "g=trading.pop('DIExp')\n",
    "print(g)\n"
   ]
  },
  {
   "cell_type": "code",
   "execution_count": 116,
   "id": "487cea4b",
   "metadata": {},
   "outputs": [
    {
     "name": "stdout",
     "output_type": "stream",
     "text": [
      "('GP', '10,000')\n"
     ]
    }
   ],
   "source": [
    "h=trading.popitem()\n",
    "print(h)"
   ]
  },
  {
   "cell_type": "code",
   "execution_count": 120,
   "id": "ba689e57",
   "metadata": {},
   "outputs": [
    {
     "name": "stdout",
     "output_type": "stream",
     "text": [
      "25,000\n"
     ]
    }
   ],
   "source": [
    "i=PnL.setdefault('NP')\n",
    "print(i)\n"
   ]
  },
  {
   "cell_type": "code",
   "execution_count": 129,
   "id": "2eb1b196",
   "metadata": {},
   "outputs": [
    {
     "ename": "SyntaxError",
     "evalue": "invalid syntax (Temp/ipykernel_9620/2839881440.py, line 1)",
     "output_type": "error",
     "traceback": [
      "\u001b[1;36m  File \u001b[1;32m\"C:\\Users\\Admin\\AppData\\Local\\Temp/ipykernel_9620/2839881440.py\"\u001b[1;36m, line \u001b[1;32m1\u001b[0m\n\u001b[1;33m    g=PnL.update(['GP':250000])\u001b[0m\n\u001b[1;37m                      ^\u001b[0m\n\u001b[1;31mSyntaxError\u001b[0m\u001b[1;31m:\u001b[0m invalid syntax\n"
     ]
    }
   ],
   "source": [
    "g=PnL.update(['GP':250000])\n",
    "print(g)"
   ]
  },
  {
   "cell_type": "code",
   "execution_count": 130,
   "id": "e46f94c6",
   "metadata": {},
   "outputs": [
    {
     "name": "stdout",
     "output_type": "stream",
     "text": [
      "dict_values(['trading', 'OfficeExp', 'IntInc', '25,000'])\n"
     ]
    }
   ],
   "source": [
    "h=PnL.values()\n",
    "print(h)"
   ]
  },
  {
   "cell_type": "code",
   "execution_count": 132,
   "id": "1c09e97e",
   "metadata": {},
   "outputs": [
    {
     "name": "stdout",
     "output_type": "stream",
     "text": [
      "{'DiExp': 'trading', 'IndExp': 'OfficeExp', 'IndInc': 'IntInc', 'NP': '25,000'}\n"
     ]
    }
   ],
   "source": [
    "i=PnL.update()\n",
    "print(PnL)"
   ]
  },
  {
   "cell_type": "code",
   "execution_count": 133,
   "id": "a3964895",
   "metadata": {},
   "outputs": [
    {
     "name": "stdout",
     "output_type": "stream",
     "text": [
      "{}\n"
     ]
    }
   ],
   "source": [
    "j=PnL.clear()\n",
    "print(PnL)"
   ]
  },
  {
   "cell_type": "code",
   "execution_count": null,
   "id": "65f2fd7d",
   "metadata": {},
   "outputs": [],
   "source": []
  }
 ],
 "metadata": {
  "kernelspec": {
   "display_name": "Python 3 (ipykernel)",
   "language": "python",
   "name": "python3"
  },
  "language_info": {
   "codemirror_mode": {
    "name": "ipython",
    "version": 3
   },
   "file_extension": ".py",
   "mimetype": "text/x-python",
   "name": "python",
   "nbconvert_exporter": "python",
   "pygments_lexer": "ipython3",
   "version": "3.9.7"
  }
 },
 "nbformat": 4,
 "nbformat_minor": 5
}
